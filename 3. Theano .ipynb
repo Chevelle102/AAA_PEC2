{
 "cells": [
  {
   "cell_type": "markdown",
   "metadata": {},
   "source": [
    "# Crear un conjunto de datos utilizando el siguiente código:\n",
    "\n",
    "## trX = np.linspace(-1, 1, 101)\n",
    "\n",
    "## trY = np.linspace(-1, 1, 101)\n",
    "\n",
    "## for i in range(len(trY)):\n",
    "##            trY[i] = math.sin(0.2 * trX[i]) + math.exp(-0.7 * trX[i]) + np.random.randn() * 0.033\n",
    "\n",
    "## Ahora utilizar Theano para obtener los parámetros w_0 y w_1 del modelo correspondiente.\n",
    "\n",
    "##   y = sin(w_0 * x) + exp(w_1 * x)"
   ]
  },
  {
   "cell_type": "code",
   "execution_count": 23,
   "metadata": {},
   "outputs": [
    {
     "name": "stdout",
     "output_type": "stream",
     "text": [
      "Using matplotlib backend: Qt5Agg\n",
      "Populating the interactive namespace from numpy and matplotlib\n"
     ]
    }
   ],
   "source": [
    "%pylab\n",
    "%matplotlib inline\n",
    "import numpy as np\n",
    "import pandas as pd\n",
    "import matplotlib.pyplot as plt\n",
    "import theano\n",
    "import theano.tensor as T"
   ]
  },
  {
   "cell_type": "code",
   "execution_count": 4,
   "metadata": {
    "collapsed": true
   },
   "outputs": [],
   "source": [
    "trX = np.linspace(-1, 1, 101)\n",
    "trY = np.linspace(-1, 1, 101)"
   ]
  },
  {
   "cell_type": "code",
   "execution_count": 6,
   "metadata": {
    "collapsed": true
   },
   "outputs": [
    {
     "name": "stdout",
     "output_type": "stream",
     "text": [
      "1.8039942493497643\n",
      "1.7875421562209506\n",
      "1.7534693341607035\n",
      "1.7681979536660286\n",
      "1.7450015952866067\n",
      "1.6747730181720037\n",
      "1.6795072175662775\n",
      "1.6626606115259621\n",
      "1.6906529267158648\n",
      "1.6468359159960295\n",
      "1.5678020184458017\n",
      "1.5996517082474784\n",
      "1.5317436821121155\n",
      "1.5661474316269814\n",
      "1.5552597181690142\n",
      "1.4828360511228467\n",
      "1.4569006288733828\n",
      "1.4164717021089115\n",
      "1.433478995991756\n",
      "1.4344964516198402\n",
      "1.3347408467798505\n",
      "1.3329701898497117\n",
      "1.3818918295065916\n",
      "1.3506245229506924\n",
      "1.3080373394483513\n",
      "1.2887004750759408\n",
      "1.3010444269442658\n",
      "1.2682830167511032\n",
      "1.2947191173022674\n",
      "1.2920809840517233\n",
      "1.2246279943693665\n",
      "1.2017739542298773\n",
      "1.2822562204803865\n",
      "1.2374594555948701\n",
      "1.132594984645431\n",
      "1.187449992579897\n",
      "1.1492839060312094\n",
      "1.1363509808764944\n",
      "1.131446781426215\n",
      "1.0611721860713712\n",
      "1.1781071977567332\n",
      "1.0213990783489235\n",
      "1.1584015299144779\n",
      "1.0469247320084447\n",
      "1.0842020570707813\n",
      "1.0685161116643362\n",
      "1.0953697025163553\n",
      "1.0546494490092235\n",
      "0.9917951746779005\n",
      "1.012499716596789\n",
      "0.9634528297822283\n",
      "1.0377809599954613\n",
      "0.9569533661657685\n",
      "0.9686538875978706\n",
      "1.0282451618028792\n",
      "0.9130211745065921\n",
      "1.0088930143206225\n",
      "0.9038033871456918\n",
      "0.9081608471432535\n",
      "0.8877454656884362\n",
      "0.858520518746933\n",
      "0.9173616892364946\n",
      "0.867210577297864\n",
      "0.878885098838886\n",
      "0.9225632334177509\n",
      "0.8497095434007685\n",
      "0.8967260988407306\n",
      "0.8573145489028315\n",
      "0.892539191817722\n",
      "0.8437047765530267\n",
      "0.8078018742107824\n",
      "0.9090865749161074\n",
      "0.8249810354842859\n",
      "0.794010270346387\n",
      "0.8570322861857537\n",
      "0.8378300344920373\n",
      "0.7828019156339504\n",
      "0.746227335109453\n",
      "0.799818784614016\n",
      "0.8593126276326686\n",
      "0.7727393424259263\n",
      "0.8094377159974588\n",
      "0.7594786867244993\n",
      "0.815884757066737\n",
      "0.7459884847674209\n",
      "0.7434241578392855\n",
      "0.7843782076683101\n",
      "0.810495612757546\n",
      "0.7155871451034164\n",
      "0.6968658270281151\n",
      "0.7233252751319175\n",
      "0.6534753078794852\n",
      "0.6922241462740315\n",
      "0.7490223966782715\n",
      "0.7102037188030675\n",
      "0.7279007196724813\n",
      "0.6916330154350864\n",
      "0.7132537138683788\n",
      "0.6915028448673034\n",
      "0.6968565122658789\n",
      "0.7021502040070113\n"
     ]
    }
   ],
   "source": [
    "for i in range(len(trY)):\n",
    "    trY[i] = math.sin(0.2 * trX[i]) + math.exp(-0.7 * trX[i]) + np.random.randn() * 0.033\n",
    "    print(trY[i])"
   ]
  },
  {
   "cell_type": "code",
   "execution_count": 41,
   "metadata": {},
   "outputs": [
    {
     "name": "stdout",
     "output_type": "stream",
     "text": [
      "En el paso 0 el valor de w_0 es -0.1033740112269422 y w_1 es 0.8642012622271497 con un coste 2.5249787539364643\n",
      "En el paso 1 el valor de w_0 es -0.18928532208586193 y w_1 es 0.7600531201526909 con un coste 1.593039205057267\n",
      "En el paso 2 el valor de w_0 es -0.26146993358298154 y w_1 es 0.6770886232484679 con un coste 1.0349349717223837\n",
      "En el paso 3 el valor de w_0 es -0.3226271668279038 y w_1 es 0.6093202875579169 con un coste 0.6840637247457755\n",
      "En el paso 4 el valor de w_0 es -0.3747960127987528 y w_1 es 0.5529818638916312 con un coste 0.45625164325292233\n",
      "En el paso 5 el valor de w_0 es -0.4195574096292352 y w_1 es 0.5055391368176602 con un coste 0.30507864499932585\n",
      "En el paso 6 el valor de w_0 es -0.4581590104268842 y w_1 es 0.4651988849880099 con un coste 0.20331098833060224\n",
      "En el paso 7 el valor de w_0 es -0.4915987732140075 y w_1 es 0.43064183148356 con un coste 0.13422319552902903\n",
      "En el paso 8 el valor de w_0 es -0.5206838173394278 y w_1 es 0.40086690486067206 con un coste 0.08717710004308464\n",
      "En el paso 9 el valor de w_0 es -0.5460731881882712 y w_1 es 0.3750952492796046 con un coste 0.055217372735470824\n",
      "En el paso 10 el valor de w_0 es -0.5683096068297917 y w_1 es 0.3527083356545732 con un coste 0.033695186064602936\n",
      "En el paso 11 el valor de w_0 es -0.5878434258197014 y w_1 es 0.33320653379057524 con un coste 0.019447451212964408\n",
      "En el paso 12 el valor de w_0 es -0.6050509428346386 y w_1 es 0.3161804830790857 con un coste 0.010290666584711831\n",
      "En el paso 13 el valor de w_0 es -0.62024855977627 y w_1 es 0.3012907560464243 con un coste 0.0046999221105679615\n",
      "En el paso 14 el valor de w_0 es -0.6337038409029955 y w_1 es 0.28825306075407386 con un coste 0.0016004430267102918\n",
      "En el paso 15 el valor de w_0 es -0.6456442295334384 y w_1 es 0.27682724190934027 con un coste 0.00022943774381035508\n",
      "En el paso 16 el valor de w_0 es -0.6562639786569817 y w_1 es 0.26680894899003005 con un coste 4.291520457103754e-05\n",
      "En el paso 17 el valor de w_0 es -0.665729706285884 y w_1 es 0.2580232164973083 con un coste 0.0006518649819203013\n",
      "En el paso 18 el valor de w_0 es -0.6741848826290645 y w_1 es 0.2503194413306387 con un coste 0.0017779598880346527\n",
      "En el paso 19 el valor de w_0 es -0.681753480764469 y w_1 es 0.24356739875423958 con un coste 0.0032224482100647643\n",
      "En el paso 20 el valor de w_0 es -0.6885429671121749 y w_1 es 0.23765404273710047 con un coste 0.00484408490741236\n",
      "En el paso 21 el valor de w_0 es -0.6946467669618571 y w_1 es 0.23248090736007115 con un coste 0.006543336561668524\n",
      "En el paso 22 el valor de w_0 es -0.7001463096171825 y w_1 es 0.22796197505159504 con un coste 0.00825099056927506\n",
      "En el paso 23 el valor de w_0 es -0.7051127345882382 y w_1 es 0.22402191192232296 con un coste 0.009919887702113937\n",
      "En el paso 24 el valor de w_0 es -0.7096083226969878 y w_1 es 0.22059459510412027 con un coste 0.011518889801720026\n",
      "En el paso 25 el valor de w_0 es -0.7136877025247252 y w_1 es 0.21762187483206916 con un coste 0.013028459861037216\n",
      "En el paso 26 el valor de w_0 es -0.7173988722826697 y w_1 es 0.21505252708621422 con un coste 0.014437413509201687\n",
      "En el paso 27 el valor de w_0 es -0.7207840691645506 y w_1 es 0.21284136231899645 con un coste 0.015740526785776678\n",
      "En el paso 28 el valor de w_0 es -0.7238805119809172 y w_1 es 0.2109484630863399 con un coste 0.016936773179452698\n",
      "En el paso 29 el valor de w_0 es -0.7267210379612793 y w_1 es 0.20933852893748636 con un coste 0.01802802515397009\n",
      "En el paso 30 el valor de w_0 es -0.7293346507297269 y w_1 es 0.2079803111674363 con un coste 0.019018099765837005\n",
      "En el paso 31 el valor de w_0 es -0.7317469933772959 y w_1 es 0.20684612332869096 con un coste 0.019912059883060804\n",
      "En el paso 32 el valor de w_0 es -0.7339807580920431 y w_1 es 0.20591141597534485 con un coste 0.020715705622990695\n",
      "En el paso 33 el valor de w_0 es -0.7360560418300013 y w_1 es 0.20515440614673022 con un coste 0.02143520748136868\n",
      "En el paso 34 el valor de w_0 es -0.7379906559129372 y w_1 es 0.20455575371779475 con un coste 0.022076844994425172\n",
      "En el paso 35 el valor de w_0 es -0.7398003961421996 y w_1 es 0.2040982780442086 con un coste 0.022646823906388825\n",
      "En el paso 36 el valor de w_0 es -0.7414992789598871 y w_1 es 0.20376670938290287 con un coste 0.02315115158900416\n",
      "En el paso 37 el valor de w_0 es -0.7430997483208674 y w_1 es 0.2035474704270089 con un coste 0.023595555508672875\n",
      "En el paso 38 el valor de w_0 es -0.7446128572241242 y w_1 es 0.2034284839988049 con un coste 0.02398543331514685\n",
      "En el paso 39 el valor de w_0 es -0.7460484272598082 y w_1 es 0.20339900352663806 con un coste 0.0243258259629064\n"
     ]
    },
    {
     "data": {
      "text/plain": [
       "[<matplotlib.lines.Line2D at 0x6b9dd58358>]"
      ]
     },
     "execution_count": 41,
     "metadata": {},
     "output_type": "execute_result"
    },
    {
     "data": {
      "image/png": "[encoded data removed]",
      "text/plain": [
       "<matplotlib.figure.Figure at 0x6b98b5fa20>"
      ]
     },
     "metadata": {},
     "output_type": "display_data"
    }
   ],
   "source": [
    "X = T.scalar()\n",
    "Y = T.scalar()\n",
    "\n",
    "\n",
    "def model(X, w_0, w_1):\n",
    "    y = T.sin(w_0 * X) + T.exp(w_1 * X)\n",
    "    #return c * T.log10(w * X)\n",
    "    return y\n",
    "\n",
    "w_0 = theano.shared(np.asarray(0., dtype = theano.config.floatX))\n",
    "w_1 = theano.shared(np.asarray(1., dtype = theano.config.floatX))\n",
    "y = model(X, w_0, w_1)\n",
    "\n",
    "cost     = T.mean(T.sqr(y - Y))\n",
    "gradient_w_0 = T.grad(cost = cost, wrt = w_0)\n",
    "gradient_w_1 = T.grad(cost = cost, wrt = w_1)\n",
    "updates  = [[w_0, w_0 - gradient_w_0 * 0.001], [w_1, w_1 - gradient_w_1 * 0.001]]\n",
    "\n",
    "train = theano.function(inputs = [X, Y],\n",
    "                        outputs = cost,\n",
    "                        updates = updates,\n",
    "                        allow_input_downcast = True)\n",
    "\n",
    "cost_list = []\n",
    "for i in range(40):\n",
    "    for x, y in zip(trX, trY):\n",
    "        cost_i = train(x, y)\n",
    "        cost_list.append(cost_i)\n",
    "    print('En el paso', i, 'el valor de w_0 es', w_0.get_value(), 'y w_1 es', w_1.get_value(), 'con un coste', cost_i)\n",
    "    \n",
    "plot(range(0,len(cost_list)),cost_list,'r-')\n"
   ]
  },
  {
   "cell_type": "code",
   "execution_count": 40,
   "metadata": {},
   "outputs": [
    {
     "data": {
      "text/plain": [
       "range(0, 4040)"
      ]
     },
     "execution_count": 40,
     "metadata": {},
     "output_type": "execute_result"
    }
   ],
   "source": [
    "range(0,len(cost_list))"
   ]
  },
  {
   "cell_type": "code",
   "execution_count": null,
   "metadata": {
    "collapsed": true
   },
   "outputs": [],
   "source": []
  }
 ],
 "metadata": {
  "kernelspec": {
   "display_name": "Python 3",
   "language": "python",
   "name": "python3"
  },
  "language_info": {
   "codemirror_mode": {
    "name": "ipython",
    "version": 3
   },
   "file_extension": ".py",
   "mimetype": "text/x-python",
   "name": "python",
   "nbconvert_exporter": "python",
   "pygments_lexer": "ipython3",
   "version": "3.6.1"
  }
 },
 "nbformat": 4,
 "nbformat_minor": 2
}
