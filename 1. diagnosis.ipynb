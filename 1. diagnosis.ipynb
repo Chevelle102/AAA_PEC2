{
 "cells": [
  {
   "cell_type": "markdown",
   "metadata": {},
   "source": [
    "# 1. Predicción de enfermedades (Nivel Avanzado)\n",
    "\n",
    "### En el archivo \"diagnosis.csv\" Los datos han sido creados por un experto médico para poner a prueba un modelo que permite predecir dos enfermedades del sistema urinario. Los datos son:\n",
    "\n",
    "### id: identificado del registro\n",
    "### a1: temperatura del paciente\n",
    "### a2: ocurrencia de nauseas\n",
    "### a3: dolor lumbar\n",
    "### a4: necesidad continua de orinar\n",
    "### a5: dolores miccionales\n",
    "### a6: ardor de la uretra, picazón o hinchazón de la salida de la uretra\n",
    "\n",
    "### Las enfermedades que se desean evaluar son:\n",
    "\n",
    "### d1: inflamación de la vejiga urinaria\n",
    "### d2: nefritis de origen en la pelvis renal\n",
    "### Crear un modelo que permite predecir cada una de las enfermedades con los datos suministrados. Evaluar el rendimiento de los modelos."
   ]
  },
  {
   "cell_type": "code",
   "execution_count": 1,
   "metadata": {},
   "outputs": [
    {
     "name": "stdout",
     "output_type": "stream",
     "text": [
      "Using matplotlib backend: Qt5Agg\n",
      "Populating the interactive namespace from numpy and matplotlib\n"
     ]
    }
   ],
   "source": [
    "%pylab\n",
    "%matplotlib inline\n",
    "import numpy as np\n",
    "import pandas as pd\n",
    "import matplotlib.pyplot as plt\n",
    "import seaborn as sns\n",
    "\n",
    "from sklearn.model_selection import train_test_split\n",
    "from sklearn.linear_model import LinearRegression\n",
    "import csv\n",
    "from sklearn.metrics import accuracy_score, auc, confusion_matrix, f1_score, precision_score, recall_score, roc_curve\n",
    "import matplotlib.pyplot as plt\n",
    "import warnings\n",
    "warnings.simplefilter(\"ignore\")"
   ]
  },
  {
   "cell_type": "code",
   "execution_count": 2,
   "metadata": {},
   "outputs": [
    {
     "data": {
      "text/html": [
       "<div>\n",
       "<style scoped>\n",
       "    .dataframe tbody tr th:only-of-type {\n",
       "        vertical-align: middle;\n",
       "    }\n",
       "\n",
       "    .dataframe tbody tr th {\n",
       "        vertical-align: top;\n",
       "    }\n",
       "\n",
       "    .dataframe thead th {\n",
       "        text-align: right;\n",
       "    }\n",
       "</style>\n",
       "<table border=\"1\" class=\"dataframe\">\n",
       "  <thead>\n",
       "    <tr style=\"text-align: right;\">\n",
       "      <th></th>\n",
       "      <th>id</th>\n",
       "      <th>a1</th>\n",
       "      <th>a2</th>\n",
       "      <th>a3</th>\n",
       "      <th>a4</th>\n",
       "      <th>a5</th>\n",
       "      <th>a6</th>\n",
       "      <th>d1</th>\n",
       "      <th>d2</th>\n",
       "    </tr>\n",
       "  </thead>\n",
       "  <tbody>\n",
       "    <tr>\n",
       "      <th>count</th>\n",
       "      <td>120.000000</td>\n",
       "      <td>120.000000</td>\n",
       "      <td>120.000000</td>\n",
       "      <td>120.000000</td>\n",
       "      <td>120.000000</td>\n",
       "      <td>120.000000</td>\n",
       "      <td>120.000000</td>\n",
       "      <td>120.000000</td>\n",
       "      <td>120.000000</td>\n",
       "    </tr>\n",
       "    <tr>\n",
       "      <th>mean</th>\n",
       "      <td>60.500000</td>\n",
       "      <td>38.724167</td>\n",
       "      <td>0.241667</td>\n",
       "      <td>0.583333</td>\n",
       "      <td>0.666667</td>\n",
       "      <td>0.491667</td>\n",
       "      <td>0.416667</td>\n",
       "      <td>0.491667</td>\n",
       "      <td>0.416667</td>\n",
       "    </tr>\n",
       "    <tr>\n",
       "      <th>std</th>\n",
       "      <td>34.785054</td>\n",
       "      <td>1.819132</td>\n",
       "      <td>0.429888</td>\n",
       "      <td>0.495074</td>\n",
       "      <td>0.473381</td>\n",
       "      <td>0.502027</td>\n",
       "      <td>0.495074</td>\n",
       "      <td>0.502027</td>\n",
       "      <td>0.495074</td>\n",
       "    </tr>\n",
       "    <tr>\n",
       "      <th>min</th>\n",
       "      <td>1.000000</td>\n",
       "      <td>35.500000</td>\n",
       "      <td>0.000000</td>\n",
       "      <td>0.000000</td>\n",
       "      <td>0.000000</td>\n",
       "      <td>0.000000</td>\n",
       "      <td>0.000000</td>\n",
       "      <td>0.000000</td>\n",
       "      <td>0.000000</td>\n",
       "    </tr>\n",
       "    <tr>\n",
       "      <th>25%</th>\n",
       "      <td>30.750000</td>\n",
       "      <td>37.100000</td>\n",
       "      <td>0.000000</td>\n",
       "      <td>0.000000</td>\n",
       "      <td>0.000000</td>\n",
       "      <td>0.000000</td>\n",
       "      <td>0.000000</td>\n",
       "      <td>0.000000</td>\n",
       "      <td>0.000000</td>\n",
       "    </tr>\n",
       "    <tr>\n",
       "      <th>50%</th>\n",
       "      <td>60.500000</td>\n",
       "      <td>37.950000</td>\n",
       "      <td>0.000000</td>\n",
       "      <td>1.000000</td>\n",
       "      <td>1.000000</td>\n",
       "      <td>0.000000</td>\n",
       "      <td>0.000000</td>\n",
       "      <td>0.000000</td>\n",
       "      <td>0.000000</td>\n",
       "    </tr>\n",
       "    <tr>\n",
       "      <th>75%</th>\n",
       "      <td>90.250000</td>\n",
       "      <td>40.600000</td>\n",
       "      <td>0.000000</td>\n",
       "      <td>1.000000</td>\n",
       "      <td>1.000000</td>\n",
       "      <td>1.000000</td>\n",
       "      <td>1.000000</td>\n",
       "      <td>1.000000</td>\n",
       "      <td>1.000000</td>\n",
       "    </tr>\n",
       "    <tr>\n",
       "      <th>max</th>\n",
       "      <td>120.000000</td>\n",
       "      <td>41.500000</td>\n",
       "      <td>1.000000</td>\n",
       "      <td>1.000000</td>\n",
       "      <td>1.000000</td>\n",
       "      <td>1.000000</td>\n",
       "      <td>1.000000</td>\n",
       "      <td>1.000000</td>\n",
       "      <td>1.000000</td>\n",
       "    </tr>\n",
       "  </tbody>\n",
       "</table>\n",
       "</div>"
      ],
      "text/plain": [
       "               id          a1          a2          a3          a4          a5  \\\n",
       "count  120.000000  120.000000  120.000000  120.000000  120.000000  120.000000   \n",
       "mean    60.500000   38.724167    0.241667    0.583333    0.666667    0.491667   \n",
       "std     34.785054    1.819132    0.429888    0.495074    0.473381    0.502027   \n",
       "min      1.000000   35.500000    0.000000    0.000000    0.000000    0.000000   \n",
       "25%     30.750000   37.100000    0.000000    0.000000    0.000000    0.000000   \n",
       "50%     60.500000   37.950000    0.000000    1.000000    1.000000    0.000000   \n",
       "75%     90.250000   40.600000    0.000000    1.000000    1.000000    1.000000   \n",
       "max    120.000000   41.500000    1.000000    1.000000    1.000000    1.000000   \n",
       "\n",
       "               a6          d1          d2  \n",
       "count  120.000000  120.000000  120.000000  \n",
       "mean     0.416667    0.491667    0.416667  \n",
       "std      0.495074    0.502027    0.495074  \n",
       "min      0.000000    0.000000    0.000000  \n",
       "25%      0.000000    0.000000    0.000000  \n",
       "50%      0.000000    0.000000    0.000000  \n",
       "75%      1.000000    1.000000    1.000000  \n",
       "max      1.000000    1.000000    1.000000  "
      ]
     },
     "execution_count": 2,
     "metadata": {},
     "output_type": "execute_result"
    }
   ],
   "source": [
    "data = pd.read_csv('diagnosis.csv',sep=';')\n",
    "\n",
    "#data[34]=pd.get_dummies(data[34])\n",
    "data.describe()"
   ]
  },
  {
   "cell_type": "code",
   "execution_count": 3,
   "metadata": {},
   "outputs": [
    {
     "data": {
      "text/html": [
       "<div>\n",
       "<style scoped>\n",
       "    .dataframe tbody tr th:only-of-type {\n",
       "        vertical-align: middle;\n",
       "    }\n",
       "\n",
       "    .dataframe tbody tr th {\n",
       "        vertical-align: top;\n",
       "    }\n",
       "\n",
       "    .dataframe thead th {\n",
       "        text-align: right;\n",
       "    }\n",
       "</style>\n",
       "<table border=\"1\" class=\"dataframe\">\n",
       "  <thead>\n",
       "    <tr style=\"text-align: right;\">\n",
       "      <th></th>\n",
       "      <th>id</th>\n",
       "      <th>a1</th>\n",
       "      <th>a2</th>\n",
       "      <th>a3</th>\n",
       "      <th>a4</th>\n",
       "      <th>a5</th>\n",
       "      <th>a6</th>\n",
       "      <th>d1</th>\n",
       "      <th>d2</th>\n",
       "    </tr>\n",
       "  </thead>\n",
       "  <tbody>\n",
       "    <tr>\n",
       "      <th>0</th>\n",
       "      <td>1</td>\n",
       "      <td>35.5</td>\n",
       "      <td>0</td>\n",
       "      <td>1</td>\n",
       "      <td>0</td>\n",
       "      <td>0</td>\n",
       "      <td>0</td>\n",
       "      <td>0</td>\n",
       "      <td>0</td>\n",
       "    </tr>\n",
       "    <tr>\n",
       "      <th>1</th>\n",
       "      <td>2</td>\n",
       "      <td>35.9</td>\n",
       "      <td>0</td>\n",
       "      <td>0</td>\n",
       "      <td>1</td>\n",
       "      <td>1</td>\n",
       "      <td>1</td>\n",
       "      <td>1</td>\n",
       "      <td>0</td>\n",
       "    </tr>\n",
       "    <tr>\n",
       "      <th>2</th>\n",
       "      <td>3</td>\n",
       "      <td>35.9</td>\n",
       "      <td>0</td>\n",
       "      <td>1</td>\n",
       "      <td>0</td>\n",
       "      <td>0</td>\n",
       "      <td>0</td>\n",
       "      <td>0</td>\n",
       "      <td>0</td>\n",
       "    </tr>\n",
       "    <tr>\n",
       "      <th>3</th>\n",
       "      <td>4</td>\n",
       "      <td>36.0</td>\n",
       "      <td>0</td>\n",
       "      <td>0</td>\n",
       "      <td>1</td>\n",
       "      <td>1</td>\n",
       "      <td>1</td>\n",
       "      <td>1</td>\n",
       "      <td>0</td>\n",
       "    </tr>\n",
       "    <tr>\n",
       "      <th>4</th>\n",
       "      <td>5</td>\n",
       "      <td>36.0</td>\n",
       "      <td>0</td>\n",
       "      <td>1</td>\n",
       "      <td>0</td>\n",
       "      <td>0</td>\n",
       "      <td>0</td>\n",
       "      <td>0</td>\n",
       "      <td>0</td>\n",
       "    </tr>\n",
       "    <tr>\n",
       "      <th>5</th>\n",
       "      <td>6</td>\n",
       "      <td>36.0</td>\n",
       "      <td>0</td>\n",
       "      <td>1</td>\n",
       "      <td>0</td>\n",
       "      <td>0</td>\n",
       "      <td>0</td>\n",
       "      <td>0</td>\n",
       "      <td>0</td>\n",
       "    </tr>\n",
       "    <tr>\n",
       "      <th>6</th>\n",
       "      <td>7</td>\n",
       "      <td>36.2</td>\n",
       "      <td>0</td>\n",
       "      <td>0</td>\n",
       "      <td>1</td>\n",
       "      <td>1</td>\n",
       "      <td>1</td>\n",
       "      <td>1</td>\n",
       "      <td>0</td>\n",
       "    </tr>\n",
       "    <tr>\n",
       "      <th>7</th>\n",
       "      <td>8</td>\n",
       "      <td>36.2</td>\n",
       "      <td>0</td>\n",
       "      <td>1</td>\n",
       "      <td>0</td>\n",
       "      <td>0</td>\n",
       "      <td>0</td>\n",
       "      <td>0</td>\n",
       "      <td>0</td>\n",
       "    </tr>\n",
       "    <tr>\n",
       "      <th>8</th>\n",
       "      <td>9</td>\n",
       "      <td>36.3</td>\n",
       "      <td>0</td>\n",
       "      <td>0</td>\n",
       "      <td>1</td>\n",
       "      <td>1</td>\n",
       "      <td>1</td>\n",
       "      <td>1</td>\n",
       "      <td>0</td>\n",
       "    </tr>\n",
       "    <tr>\n",
       "      <th>9</th>\n",
       "      <td>10</td>\n",
       "      <td>36.6</td>\n",
       "      <td>0</td>\n",
       "      <td>0</td>\n",
       "      <td>1</td>\n",
       "      <td>1</td>\n",
       "      <td>1</td>\n",
       "      <td>1</td>\n",
       "      <td>0</td>\n",
       "    </tr>\n",
       "  </tbody>\n",
       "</table>\n",
       "</div>"
      ],
      "text/plain": [
       "   id    a1  a2  a3  a4  a5  a6  d1  d2\n",
       "0   1  35.5   0   1   0   0   0   0   0\n",
       "1   2  35.9   0   0   1   1   1   1   0\n",
       "2   3  35.9   0   1   0   0   0   0   0\n",
       "3   4  36.0   0   0   1   1   1   1   0\n",
       "4   5  36.0   0   1   0   0   0   0   0\n",
       "5   6  36.0   0   1   0   0   0   0   0\n",
       "6   7  36.2   0   0   1   1   1   1   0\n",
       "7   8  36.2   0   1   0   0   0   0   0\n",
       "8   9  36.3   0   0   1   1   1   1   0\n",
       "9  10  36.6   0   0   1   1   1   1   0"
      ]
     },
     "execution_count": 3,
     "metadata": {},
     "output_type": "execute_result"
    }
   ],
   "source": [
    "data.head(10)"
   ]
  },
  {
   "cell_type": "markdown",
   "metadata": {},
   "source": [
    "## Procedemos a elimnar la columna ID dado que no tienes ninguna relación con el resto de columnas"
   ]
  },
  {
   "cell_type": "code",
   "execution_count": 4,
   "metadata": {
    "collapsed": true
   },
   "outputs": [],
   "source": [
    "del data['id']"
   ]
  },
  {
   "cell_type": "markdown",
   "metadata": {},
   "source": [
    "## Hacemos un análisis de correlación de varables antes de elegir un modelo adecuado a los datos"
   ]
  },
  {
   "cell_type": "code",
   "execution_count": 5,
   "metadata": {},
   "outputs": [
    {
     "data": {
      "image/png": "[encoded data removed]",
      "text/plain": [
       "<matplotlib.figure.Figure at 0x9664417668>"
      ]
     },
     "metadata": {},
     "output_type": "display_data"
    }
   ],
   "source": [
    "#cols = data.columns\n",
    "cols = ['a1', 'a2', 'a3', 'a4', 'a5', 'a6', 'd1', 'd2']\n",
    "cm = np.corrcoef(data[cols].values.T)\n",
    "sns.set(font_scale=1.5,style=\"ticks\", color_codes=True)\n",
    "hm = sns.heatmap(cm, cbar=True, annot=True, square=True, fmt='.2f', annot_kws={'size':12}, yticklabels=cols, xticklabels=cols)\n",
    "plt.show()"
   ]
  },
  {
   "cell_type": "markdown",
   "metadata": {},
   "source": [
    "## Dado el enunciado separamos las variables D1 y D2 para 2 dataset distintos y procesar en nuestro modelo de forma separada"
   ]
  },
  {
   "cell_type": "code",
   "execution_count": 6,
   "metadata": {
    "collapsed": true
   },
   "outputs": [],
   "source": [
    "target_d1 = 'd1'\n",
    "features_d1 = list(data.columns)\n",
    "features_d1.remove('d1')\n",
    "features_d1.remove('d2')\n",
    "\n",
    "target_d2 = 'd2'\n",
    "features_d2 = list(data.columns)\n",
    "features_d2.remove('d1')\n",
    "features_d2.remove('d2')"
   ]
  },
  {
   "cell_type": "code",
   "execution_count": 7,
   "metadata": {
    "collapsed": true
   },
   "outputs": [],
   "source": [
    "x_d1 = data[features_d1] \n",
    "y_d1 = data[target_d1]\n",
    "\n",
    "x_d2 = data[features_d2] \n",
    "y_d2 = data[target_d2]"
   ]
  },
  {
   "cell_type": "code",
   "execution_count": 8,
   "metadata": {
    "collapsed": true
   },
   "outputs": [],
   "source": [
    "X_train1, X_test1, y_train1, y_test1 = train_test_split(x_d1, y_d1, test_size=0.2, random_state=0) \n",
    "\n",
    "X_train2, X_test2, y_train2, y_test2 = train_test_split(x_d2, y_d2, test_size=0.2, random_state=0) "
   ]
  },
  {
   "cell_type": "code",
   "execution_count": 9,
   "metadata": {},
   "outputs": [
    {
     "name": "stdout",
     "output_type": "stream",
     "text": [
      "96 24\n",
      "96 24\n"
     ]
    }
   ],
   "source": [
    "print(len(X_train1),len(X_test1))\n",
    "print(len(X_train2),len(X_test2))"
   ]
  },
  {
   "cell_type": "code",
   "execution_count": 11,
   "metadata": {},
   "outputs": [
    {
     "data": {
      "text/plain": [
       "pandas.core.frame.DataFrame"
      ]
     },
     "execution_count": 11,
     "metadata": {},
     "output_type": "execute_result"
    }
   ],
   "source": [
    "type(X_test1)"
   ]
  },
  {
   "cell_type": "markdown",
   "metadata": {},
   "source": [
    "## Buscando un punto de partida para el resultado esperado, implementamos un modelo DUMMY, que si bien es cierto es un modelo muy básico nuestro modelo final debe superar, si no lo hace podremos suponer que algo no va bien"
   ]
  },
  {
   "cell_type": "code",
   "execution_count": 109,
   "metadata": {},
   "outputs": [
    {
     "name": "stdout",
     "output_type": "stream",
     "text": [
      "DATASET CON VARIABLE D1\n",
      "Score of Dummy Classifier most_frequent in train: 0.500\n",
      "Score of Dummy Classifier in test : 0.542\n",
      "\n",
      "DATASET CON VARIABLE D2\n",
      "Score of Dummy Classifier in train: 0.552\n",
      "Score of Dummy Classifier in test : 0.708\n",
      "\n",
      "Observamos que los resultados son bajos porque el modelo es muy basico pero nos da un punto de partida\n"
     ]
    }
   ],
   "source": [
    "from sklearn.dummy import DummyClassifier\n",
    "\n",
    "clf = DummyClassifier(strategy='most_frequent')\n",
    "\n",
    "\n",
    "print(\"DATASET CON VARIABLE D1\")\n",
    "clf.fit(X_train1, y_train1)\n",
    "print('Score of Dummy Classifier most_frequent in train: %.3f' % clf.score(X_train1, y_train1))\n",
    "clf.fit(X_test1, y_test1)\n",
    "print('Score of Dummy Classifier in test : %.3f' % clf.score(X_test1, y_test1))\n",
    "print('')\n",
    "print(\"DATASET CON VARIABLE D2\")\n",
    "clf.fit(X_train2, y_train2)\n",
    "print('Score of Dummy Classifier in train: %.3f' % clf.score(X_train2, y_train2))\n",
    "clf.fit(X_test2, y_test2)\n",
    "print('Score of Dummy Classifier in test : %.3f' % clf.score(X_test2, y_test2))\n",
    "\n",
    "print('')\n",
    "print('Observamos que los resultados son bajos porque el modelo es muy basico pero nos da un punto de partida')\n",
    "\n",
    "#clf2 = DummyClassifier(strategy='stratified')\n",
    "#clf2.fit(X_train1, y_train1)\n",
    "#print('Score of Dummy Classifier stratified in train: %.3f' % clf2.score(X_train1, y_train1))\n",
    "#print('Score of Dummy Classifier stratified in test : %.3f' % clf2.score(X_test1, y_test1))\n",
    "#print('Score of Dummy Classifier stratified in train: %.3f' % clf2.score(X_train2, y_train2))\n",
    "#print('Score of Dummy Classifier stratified in test : %.3f' % clf2.score(X_test2, y_test2))"
   ]
  },
  {
   "cell_type": "code",
   "execution_count": 110,
   "metadata": {
    "collapsed": true
   },
   "outputs": [],
   "source": [
    "def metricas_modelos(y_true, y_pred,varbose=True):\n",
    "    from sklearn.metrics import accuracy_score, auc, confusion_matrix, f1_score, precision_score, recall_score, roc_curve\n",
    "    import matplotlib.pyplot as plt\n",
    "    \n",
    "    # Obtención de matriz de confusión\n",
    "    confusion_matrix = confusion_matrix(y_true, y_pred)\n",
    "    \n",
    "    \n",
    "    false_positive_rate, recall, thresholds = roc_curve(y_true, y_pred)\n",
    "    roc_auc = auc(false_positive_rate, recall)\n",
    "    if varbose:\n",
    "        print('La matriz de confusión es')\n",
    "        print('[TP     FP(I)]')\n",
    "        print('[FN(II) TN   ]')\n",
    "        print()\n",
    "        print(confusion_matrix)\n",
    "\n",
    "        print('Precisión:', accuracy_score(y_true, y_pred))\n",
    "        print('Exactitud:', precision_score(y_true, y_pred))\n",
    "        print('Exhaustividad:', recall_score(y_true, y_pred))\n",
    "        print('F1:', f1_score(y_true, y_pred))\n",
    "\n",
    "        \n",
    "\n",
    "        print('AUC:', auc(false_positive_rate, recall))\n",
    "    \n",
    "   \n",
    "    plt.plot(false_positive_rate, recall, 'b')\n",
    "    plt.plot([0, 1], [0, 1], 'r--')\n",
    "    plt.title('AUC = %0.2f' % roc_auc)\n",
    "    plt.show()"
   ]
  },
  {
   "cell_type": "code",
   "execution_count": 111,
   "metadata": {},
   "outputs": [
    {
     "name": "stdout",
     "output_type": "stream",
     "text": [
      "La matriz de confusión es\n",
      "[TP     FP(I)]\n",
      "[FN(II) TN   ]\n",
      "\n",
      "[[48  0]\n",
      " [ 0 48]]\n",
      "Precisión: 1.0\n",
      "Exactitud: 1.0\n",
      "Exhaustividad: 1.0\n",
      "F1: 1.0\n",
      "AUC: 1.0\n"
     ]
    },
    {
     "data": {
      "image/png": "[encoded data removed]",
      "text/plain": [
       "<matplotlib.figure.Figure at 0x151a07b198>"
      ]
     },
     "metadata": {},
     "output_type": "display_data"
    },
    {
     "name": "stdout",
     "output_type": "stream",
     "text": [
      "La matriz de confusión es\n",
      "[TP     FP(I)]\n",
      "[FN(II) TN   ]\n",
      "\n",
      "[[13  0]\n",
      " [ 0 11]]\n",
      "Precisión: 1.0\n",
      "Exactitud: 1.0\n",
      "Exhaustividad: 1.0\n",
      "F1: 1.0\n",
      "AUC: 1.0\n"
     ]
    },
    {
     "data": {
      "image/png": "[encoded data removed]",
      "text/plain": [
       "<matplotlib.figure.Figure at 0x151a835198>"
      ]
     },
     "metadata": {},
     "output_type": "display_data"
    },
    {
     "name": "stdout",
     "output_type": "stream",
     "text": [
      "La matriz de confusión es\n",
      "[TP     FP(I)]\n",
      "[FN(II) TN   ]\n",
      "\n",
      "[[53  0]\n",
      " [ 0 43]]\n",
      "Precisión: 1.0\n",
      "Exactitud: 1.0\n",
      "Exhaustividad: 1.0\n",
      "F1: 1.0\n",
      "AUC: 1.0\n"
     ]
    },
    {
     "data": {
      "image/png": "[encoded data removed]",
      "text/plain": [
       "<matplotlib.figure.Figure at 0x151a2bb240>"
      ]
     },
     "metadata": {},
     "output_type": "display_data"
    },
    {
     "name": "stdout",
     "output_type": "stream",
     "text": [
      "La matriz de confusión es\n",
      "[TP     FP(I)]\n",
      "[FN(II) TN   ]\n",
      "\n",
      "[[17  0]\n",
      " [ 0  7]]\n",
      "Precisión: 1.0\n",
      "Exactitud: 1.0\n",
      "Exhaustividad: 1.0\n",
      "F1: 1.0\n",
      "AUC: 1.0\n"
     ]
    },
    {
     "data": {
      "image/png": "[encoded data removed]",
      "text/plain": [
       "<matplotlib.figure.Figure at 0x151a2f7208>"
      ]
     },
     "metadata": {},
     "output_type": "display_data"
    }
   ],
   "source": [
    "from sklearn.linear_model.logistic import LogisticRegression\n",
    "from sklearn import preprocessing\n",
    "\n",
    "classifier1 = LogisticRegression().fit(X_train1, y_train1)\n",
    "y_pred_train1 = classifier1.predict(X_train1)\n",
    "y_pred_test1 = classifier1.predict(X_test1)\n",
    "\n",
    "metricas_modelos(y_train1, y_pred_train1)\n",
    "metricas_modelos(y_test1, y_pred_test1)\n",
    "\n",
    "\n",
    "classifier2 = LogisticRegression().fit(X_train2, y_train2)\n",
    "y_pred_train2 = classifier2.predict(X_train2)\n",
    "y_pred_test2 = classifier2.predict(X_test2)\n",
    "\n",
    "metricas_modelos(y_train2, y_pred_train2)\n",
    "metricas_modelos(y_test2, y_pred_test2)\n"
   ]
  },
  {
   "cell_type": "markdown",
   "metadata": {
    "collapsed": true
   },
   "source": [
    "# Vemos que los resultados para todos los casos es un 100% tanto para el dataset con variable D1(X_train1, y_train1) y lo mismo para el dataset con variable D2 ((X_train2, y_train2)\n",
    "\n",
    "## estos se puede explicar observanco la matrix de confusión donde vemos que para todos lo casos los FP y FN tienen calor cero"
   ]
  },
  {
   "cell_type": "markdown",
   "metadata": {},
   "source": [
    "### ============================"
   ]
  },
  {
   "cell_type": "code",
   "execution_count": null,
   "metadata": {
    "collapsed": true
   },
   "outputs": [],
   "source": []
  },
  {
   "cell_type": "markdown",
   "metadata": {},
   "source": [
    "### Adicionalmente, dado que tener un resultado al 100% nos puede llevar a varios supuesta para dar una explicación certera del problema\n",
    "\n",
    "### Para ellos se propone utilizar una técnica de BAGGING para analizar distintos modelos y ver su comportamento\n",
    "\n",
    "### Para este ensayo solo se utilizara el dataset con variable D1"
   ]
  },
  {
   "cell_type": "code",
   "execution_count": 12,
   "metadata": {},
   "outputs": [
    {
     "name": "stdout",
     "output_type": "stream",
     "text": [
      "Accuracy: 0.94 (+/- 0.06) [Logistic Regression]\n",
      "Accuracy: 1.00 (+/- 0.00) [Random Forest]\n",
      "Accuracy: 0.82 (+/- 0.09) [naive Bayes]\n",
      "Accuracy: 0.82 (+/- 0.09) [DecisionTree]\n",
      "Accuracy: 0.82 (+/- 0.09) [KNeighbors]\n",
      "Accuracy: 0.82 (+/- 0.09) [SVC]\n",
      "Accuracy: 1.00 (+/- 0.00) [Ensemble]\n"
     ]
    }
   ],
   "source": [
    "import matplotlib.gridspec as gridspec\n",
    "from sklearn import datasets\n",
    "from sklearn.model_selection import cross_val_score\n",
    "from sklearn.linear_model import LogisticRegression\n",
    "from sklearn.naive_bayes import GaussianNB\n",
    "from sklearn.ensemble import RandomForestClassifier\n",
    "from sklearn.neighbors import KNeighborsClassifier\n",
    "from sklearn.svm import SVC\n",
    "from sklearn.tree import DecisionTreeClassifier\n",
    "from sklearn.ensemble import VotingClassifier\n",
    "from mlxtend.plotting import plot_decision_regions\n",
    "import itertools\n",
    "\n",
    "\n",
    "clf1 = LogisticRegression(random_state=1,C=0.01)\n",
    "clf2 = RandomForestClassifier(random_state=1,max_leaf_nodes=1000)\n",
    "clf3 = GaussianNB()\n",
    "clf4 = DecisionTreeClassifier(max_leaf_nodes=1000)\n",
    "clf5 = KNeighborsClassifier(n_neighbors=2)\n",
    "clf6 = SVC(kernel='rbf', probability=True)\n",
    "\n",
    "#x1 = X_train.values\n",
    "#y1 = y_train.values\n",
    "\n",
    "#eclf = VotingClassifier(estimators=[('lr', clf1), ('rf', clf2), ('gnb', clf3)], voting='hard')\n",
    "eclf = VotingClassifier(estimators=[('lr', clf1), ('rf', clf2), ('gnb', clf3),('DTree', clf4),('KN', clf5),('SVC', clf6)]\n",
    "                        ,voting='soft'\n",
    "                        ,weights=[1,1,1,1,1,1])\n",
    "\n",
    "\n",
    "clf1 = clf1.fit(X_train1,y_train1)\n",
    "clf2 = clf2.fit(X_train1,y_train1)\n",
    "clf3 = clf3.fit(X_train1,y_train1)\n",
    "clf4 = clf3.fit(X_train1,y_train1)\n",
    "clf5 = clf3.fit(X_train1,y_train1)\n",
    "clf6 = clf3.fit(X_train1,y_train1)\n",
    "eclf = eclf.fit(X_train1,y_train1)\n",
    "\n",
    "lb = ['Logistic Regression','Random Forest', 'naive Bayes', 'DecisionTree','KNeighbors','SVC', 'Ensemble']\n",
    "\n",
    "for clf, label, grd in zip([clf1, clf2, clf3,clf4,clf5,clf6, eclf], lb,itertools.product([0, 1, 2], repeat=2)):\n",
    "    scores = cross_val_score(clf, X_train1, y_train1, cv=5,scoring='accuracy')\n",
    "    print(\"Accuracy: %0.2f (+/- %0.2f) [%s]\" % (scores.mean(), scores.std(), label))\n",
    "    \n",
    "\n",
    "    y_pred_train1 = clf.predict(X_train1)\n",
    "    #y_pred_test = clf.predict(X_test)\n",
    "    #metricas_modelos(y_train1, y_pred_train1,True)\n",
    "    \n"
   ]
  },
  {
   "cell_type": "markdown",
   "metadata": {},
   "source": [
    "### Según este proceso para TRAIN, el modelo que mejor se ajusta es \"Logistic Regression\" con una presición de 89% seguido por Random Forest, Naive Bayes,DecisionTree,DecisionTree con una presición de 83%\n",
    "\n",
    "### Note que la Logistic Regression tiene una presión de 89% vs al 100% del paso anterior, eso es porque se vario el Learning Rate a  0.01"
   ]
  },
  {
   "cell_type": "code",
   "execution_count": 91,
   "metadata": {},
   "outputs": [
    {
     "name": "stdout",
     "output_type": "stream",
     "text": [
      "Accuracy: 0.63 (+/- 0.11) [Logistic Regression]\n",
      "Accuracy: 0.93 (+/- 0.13) [Random Forest]\n",
      "Accuracy: 0.67 (+/- 0.26) [naive Bayes]\n",
      "Accuracy: 0.67 (+/- 0.26) [DecisionTree]\n",
      "Accuracy: 0.67 (+/- 0.26) [KNeighbors]\n",
      "Accuracy: 0.67 (+/- 0.26) [SVC]\n",
      "Accuracy: 0.95 (+/- 0.10) [Ensemble]\n"
     ]
    }
   ],
   "source": [
    "clf1 = clf1.fit(X_test1,y_test1)\n",
    "clf2 = clf2.fit(X_test1,y_test1)\n",
    "clf3 = clf3.fit(X_test1,y_test1)\n",
    "clf4 = clf3.fit(X_test1,y_test1)\n",
    "clf5 = clf3.fit(X_test1,y_test1)\n",
    "clf6 = clf3.fit(X_test1,y_test1)\n",
    "eclf = eclf.fit(X_test1,y_test1)\n",
    "\n",
    "lb = ['Logistic Regression','Random Forest', 'naive Bayes', 'DecisionTree','KNeighbors','SVC', 'Ensemble']\n",
    "\n",
    "for clf, label, grd in zip([clf1, clf2, clf3,clf4,clf5,clf6, eclf], lb,itertools.product([0, 1, 2], repeat=2)):\n",
    "    scores = cross_val_score(clf, X_test1, y_test1, cv=5,scoring='accuracy')\n",
    "    print(\"Accuracy: %0.2f (+/- %0.2f) [%s]\" % (scores.mean(), scores.std(), label))\n",
    "    \n",
    "\n",
    "    #y_pred_train = clf.predict(X_train)\n",
    "    y_pred_test1 = clf.predict(X_test1)\n",
    "    #metricas_modelos(y_test1, y_pred_test1,True)\n",
    "    \n"
   ]
  },
  {
   "cell_type": "markdown",
   "metadata": {
    "collapsed": true
   },
   "source": [
    "### Según este proceso para TEST, el modelo que mejor se ajusta es \"Random Forest\" con una presición de 93% seguido por Naive Bayes,DecisionTree,DecisionTree,KNeighbors,SVC con una presición de 67%\n",
    "### notamos tambien un baja en la presión de Logistic Regression de 63%"
   ]
  },
  {
   "cell_type": "markdown",
   "metadata": {},
   "source": [
    "### Un factor importante de hacer un bagging es que se puede comparar rapidamente el resultados de modelos y tambien que podemos dar el INPUT a los pesos e indicar si queremos que sear HARD o SOFT(promediados)"
   ]
  },
  {
   "cell_type": "markdown",
   "metadata": {},
   "source": [
    "### Finalmente comprobamos que hemos superado nuestro punto de partida con el modelo DUMMY que tenia un resultado de 0.51 para TRAIN y 50% para TEST"
   ]
  },
  {
   "cell_type": "code",
   "execution_count": null,
   "metadata": {
    "collapsed": true
   },
   "outputs": [],
   "source": []
  }
 ],
 "metadata": {
  "kernelspec": {
   "display_name": "Python 3",
   "language": "python",
   "name": "python3"
  },
  "language_info": {
   "codemirror_mode": {
    "name": "ipython",
    "version": 3
   },
   "file_extension": ".py",
   "mimetype": "text/x-python",
   "name": "python",
   "nbconvert_exporter": "python",
   "pygments_lexer": "ipython3",
   "version": "3.6.1"
  }
 },
 "nbformat": 4,
 "nbformat_minor": 2
}
